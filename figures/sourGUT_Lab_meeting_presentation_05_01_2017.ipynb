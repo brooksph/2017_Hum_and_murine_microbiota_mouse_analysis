{
 "cells": [
  {
   "cell_type": "code",
   "execution_count": 6,
   "metadata": {
    "collapsed": false,
    "slideshow": {
     "slide_type": "skip"
    }
   },
   "outputs": [],
   "source": [
    "from IPython.display import Image\n",
    "%matplotlib inline\n",
    "import pandas as pd"
   ]
  },
  {
   "cell_type": "markdown",
   "metadata": {
    "slideshow": {
     "slide_type": "slide"
    }
   },
   "source": [
    "## <center>sourGUT<center\\> \n",
    "### <center>**G**astrointestinal associated **U**nique **T**axa<center\\>\n",
    "### <center>Lab meeting 05/03/2017<center\\>"
   ]
  },
  {
   "cell_type": "markdown",
   "metadata": {
    "collapsed": true,
    "slideshow": {
     "slide_type": "slide"
    }
   },
   "source": [
    "## <center>Dysbiosis and autoimmunity<center\\>\n",
    "\n",
    "![Title](Dysbiosis_and_autoimmunity.png)\n",
    "\n",
    "Ercolini and Miller, Clin. Exp. Immunol. (2009) and Campbell, Autoimmune Dis. (2014)"
   ]
  },
  {
   "cell_type": "markdown",
   "metadata": {
    "collapsed": true,
    "slideshow": {
     "slide_type": "slide"
    }
   },
   "source": [
    "## <center>Antibiotic treatment shifts IHC labeling to extra-intestinal tissues<center\\>\n",
    "![Title](Inflamed_gut_cpz_treated.png)\n",
    "\n",
    "Anti-_Campylobacter_ immunohistochemistry"
   ]
  },
  {
   "cell_type": "markdown",
   "metadata": {
    "slideshow": {
     "slide_type": "slide"
    }
   },
   "source": [
    "![](otu_abundance.png)"
   ]
  },
  {
   "cell_type": "markdown",
   "metadata": {
    "slideshow": {
     "slide_type": "slide"
    }
   },
   "source": [
    "![](mothur_heatmap.png)"
   ]
  },
  {
   "cell_type": "markdown",
   "metadata": {
    "slideshow": {
     "slide_type": "slide"
    }
   },
   "source": [
    "- Can we cluster 16 amplicon sequences using sourmash? "
   ]
  },
  {
   "cell_type": "markdown",
   "metadata": {
    "collapsed": true,
    "slideshow": {
     "slide_type": "slide"
    }
   },
   "source": [
    "## <center>Comparing 16S rRNA Gene Sequences from Humanized and Conventional C57BL/6 Mice<center\\>\n",
    "<center>![](MC58_signature_comparison.png)<center\\>"
   ]
  },
  {
   "cell_type": "markdown",
   "metadata": {
    "slideshow": {
     "slide_type": "notes"
    }
   },
   "source": [
    "Columns; Green = Humanized microbiota, Burnt orange = Conventional \n",
    "Rows; Shades of green from light to dark = Humanized - uninfected, infected 11168, infected 260.94 \n",
    "    Shades of orange = Conventional - uninfected, infected 11168, infected 260.94\n",
    "All done with a scaled value of 10000 and k of 31 "
   ]
  },
  {
   "cell_type": "markdown",
   "metadata": {
    "slideshow": {
     "slide_type": "slide"
    }
   },
   "source": [
    "## Conclusions\n",
    "\n",
    "- Cluster patterns from sourmash match those obtained from mothur \n",
    "    - Takes about 4 hours \n",
    "    - Mothur took about 9 days of compute and about 1 week in the que\n",
    "    - No binning into OTUs \n",
    "- Can we use sourmash to classify amplicons? \n",
    "    - RDP, green genes\n"
   ]
  },
  {
   "cell_type": "markdown",
   "metadata": {
    "collapsed": true,
    "slideshow": {
     "slide_type": "slide"
    }
   },
   "source": [
    "## <center>Using sourmashd to compare 16S rRNA Gene Sequences from Humanized and Conventional C57BL/6 & NOD Mice<center\\>\n",
    "<center>![](MC58_and_MC57_signature_comparison.png)<center\\>"
   ]
  },
  {
   "cell_type": "markdown",
   "metadata": {
    "slideshow": {
     "slide_type": "notes"
    }
   },
   "source": [
    "- While waiting for mothur to run on the HPPC I clusterd those same samples with a similar experiment where mice have humanized or conventional micrbiota but but a different genotype. \n",
    "\n",
    "- Conclusion; I can cluster samples and start to think about interesting analyses while I wait for mothur to spit out OTU's"
   ]
  },
  {
   "cell_type": "markdown",
   "metadata": {
    "slideshow": {
     "slide_type": "slide"
    }
   },
   "source": [
    "#Using sourmash compare to cluster metagenomes\n",
    "\n",
    "- Dysfunction of the intestinal microbiome in inflammatory bowel disease and treatment\n",
    "- Collected stool samples and biopsies from 231 healthy and IBD (Ulcerative colitis or Chrohns) subjects  \n",
    "    - 16S rRNA\n",
    "- 11 samples (4 Crohns and 7 Healthy) \n",
    "    - WGS sequencing \n",
    "    - Functional analysis \n",
    "    - Shifts in abundance; no distinct clustering "
   ]
  },
  {
   "cell_type": "markdown",
   "metadata": {
    "collapsed": true,
    "slideshow": {
     "slide_type": "slide"
    }
   },
   "source": [
    "## <center>Distinct clustering patterns cannot be detected by overall similarity<center\\>\n",
    "<center>![](Healthy_v_IBD.png)<center\\>"
   ]
  },
  {
   "cell_type": "markdown",
   "metadata": {
    "slideshow": {
     "slide_type": "slide"
    }
   },
   "source": [
    "## <center>Samples cluster by group when considering only the most abundant hashes<center\\>\n",
    "\n",
    "<center>![](most_abundant_hashes_comp.png)<center\\>"
   ]
  },
  {
   "cell_type": "markdown",
   "metadata": {
    "slideshow": {
     "slide_type": "slide"
    }
   },
   "source": [
    "<center>![](analysis_flow.png)<center\\>"
   ]
  },
  {
   "cell_type": "markdown",
   "metadata": {
    "slideshow": {
     "slide_type": "slide"
    }
   },
   "source": [
    "<center>Results<center\\>\n",
    "\n",
    "- No unique matches were found in samples from healthy samples compared to those from affected\n",
    "\n",
    "- Three unique matches were found in crohns samples "
   ]
  },
  {
   "cell_type": "code",
   "execution_count": 8,
   "metadata": {
    "collapsed": true,
    "slideshow": {
     "slide_type": "skip"
    }
   },
   "outputs": [],
   "source": [
    "data = pd.read_csv(\"IBD_unique_taxa.csv\")\n"
   ]
  },
  {
   "cell_type": "code",
   "execution_count": 9,
   "metadata": {
    "collapsed": false,
    "slideshow": {
     "slide_type": "slide"
    }
   },
   "outputs": [
    {
     "data": {
      "text/html": [
       "<div>\n",
       "<table border=\"1\" class=\"dataframe\">\n",
       "  <thead>\n",
       "    <tr style=\"text-align: right;\">\n",
       "      <th></th>\n",
       "      <th>fraction</th>\n",
       "      <th>name</th>\n",
       "      <th>sketch_kmers</th>\n",
       "      <th>genome_fraction</th>\n",
       "    </tr>\n",
       "  </thead>\n",
       "  <tbody>\n",
       "    <tr>\n",
       "      <th>0</th>\n",
       "      <td>0.007</td>\n",
       "      <td>NC_015977.1 Roseburia hominis A2-183, complete...</td>\n",
       "      <td>3535967</td>\n",
       "      <td>0.061947</td>\n",
       "    </tr>\n",
       "    <tr>\n",
       "      <th>1</th>\n",
       "      <td>0.006</td>\n",
       "      <td>NZ_ACII02000003.1 Ruminococcus sp. 5_1_39BFAA ...</td>\n",
       "      <td>3692797</td>\n",
       "      <td>0.053097</td>\n",
       "    </tr>\n",
       "    <tr>\n",
       "      <th>2</th>\n",
       "      <td>0.005</td>\n",
       "      <td>NZ_BCAA01000001.1 Clostridia bacterium UC5.1-1...</td>\n",
       "      <td>2966390</td>\n",
       "      <td>0.044248</td>\n",
       "    </tr>\n",
       "  </tbody>\n",
       "</table>\n",
       "</div>"
      ],
      "text/plain": [
       "   fraction                                               name  sketch_kmers  \\\n",
       "0     0.007  NC_015977.1 Roseburia hominis A2-183, complete...       3535967   \n",
       "1     0.006  NZ_ACII02000003.1 Ruminococcus sp. 5_1_39BFAA ...       3692797   \n",
       "2     0.005  NZ_BCAA01000001.1 Clostridia bacterium UC5.1-1...       2966390   \n",
       "\n",
       "   genome_fraction  \n",
       "0         0.061947  \n",
       "1         0.053097  \n",
       "2         0.044248  "
      ]
     },
     "execution_count": 9,
     "metadata": {},
     "output_type": "execute_result"
    }
   ],
   "source": [
    "data"
   ]
  },
  {
   "cell_type": "markdown",
   "metadata": {
    "slideshow": {
     "slide_type": "slide"
    }
   },
   "source": [
    "## What's next? \n",
    "\n",
    "- Try with different/better data \n",
    "    - Shallow sequencing (~1/2 a million sequences per samples) \n",
    "- More samples\n",
    "    - Meta anaysis and disease specific databases \n"
   ]
  },
  {
   "cell_type": "code",
   "execution_count": null,
   "metadata": {
    "collapsed": true
   },
   "outputs": [],
   "source": []
  }
 ],
 "metadata": {
  "anaconda-cloud": {},
  "celltoolbar": "Slideshow",
  "kernelspec": {
   "display_name": "Python [Root]",
   "language": "python",
   "name": "Python [Root]"
  },
  "language_info": {
   "codemirror_mode": {
    "name": "ipython",
    "version": 3
   },
   "file_extension": ".py",
   "mimetype": "text/x-python",
   "name": "python",
   "nbconvert_exporter": "python",
   "pygments_lexer": "ipython3",
   "version": "3.5.2"
  }
 },
 "nbformat": 4,
 "nbformat_minor": 0
}
