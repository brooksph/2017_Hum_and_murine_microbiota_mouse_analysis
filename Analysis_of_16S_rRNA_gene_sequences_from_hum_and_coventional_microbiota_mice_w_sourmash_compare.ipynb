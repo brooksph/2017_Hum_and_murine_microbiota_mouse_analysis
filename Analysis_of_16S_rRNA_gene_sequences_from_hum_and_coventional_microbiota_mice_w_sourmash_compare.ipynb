{
 "cells": [
  {
   "cell_type": "code",
   "execution_count": 1,
   "metadata": {
    "collapsed": true
   },
   "outputs": [],
   "source": [
    "%matplotlib inline"
   ]
  },
  {
   "cell_type": "code",
   "execution_count": 2,
   "metadata": {
    "collapsed": true
   },
   "outputs": [],
   "source": [
    "import numpy\n",
    "import pylab\n",
    "import seaborn"
   ]
  },
  {
   "cell_type": "code",
   "execution_count": 3,
   "metadata": {
    "collapsed": false
   },
   "outputs": [
    {
     "name": "stdout",
     "output_type": "stream",
     "text": [
      "/Users/philliptbrooks/dev/sourmash/sourmash_lib\n"
     ]
    }
   ],
   "source": [
    "cd ~/dev/sourmash/sourmash_lib/"
   ]
  },
  {
   "cell_type": "code",
   "execution_count": 4,
   "metadata": {
    "collapsed": true
   },
   "outputs": [],
   "source": [
    "import fig"
   ]
  },
  {
   "cell_type": "code",
   "execution_count": 5,
   "metadata": {
    "collapsed": false
   },
   "outputs": [
    {
     "name": "stdout",
     "output_type": "stream",
     "text": [
      "/Users/philliptbrooks/dev/testing_16S\n"
     ]
    }
   ],
   "source": [
    "cd ~/dev/testing_16S"
   ]
  },
  {
   "cell_type": "code",
   "execution_count": 107,
   "metadata": {
    "collapsed": false
   },
   "outputs": [
    {
     "name": "stderr",
     "output_type": "stream",
     "text": [
      "# running sourmash subcommand: compare\n",
      "loading 0389_TAGTCTCC-TCATCGAG_L001_001.pe.fq.gz.sig\n",
      "loading 0389_TAGTCTCC-TCATCGAG_L001_001.pe.fq.gz_pass_1.trim.pe.fq.gz.sig\n",
      "loading 0393_GTCTATGA-TCATCGAG_L001_001.pe.fq.gz.sig\n",
      "loading 0393_GTCTATGA-TCATCGAG_L001_001.pe.fq.gz_pass_1.trim.pe.fq.gz.sig\n",
      "loading 0397_ACGCTACT-CGTGAGTG_L001_001.pe.fq.gz.sig\n",
      "loading 0397_ACGCTACT-CGTGAGTG_L001_001.pe.fq.gz_pass_1.trim.pe.fq.gz.sig\n",
      "loading 0404_ACTACGAC-CGTGAGTG_L001_001.pe.fq.gz.sig\n",
      "loading 0404_ACTACGAC-CGTGAGTG_L001_001.pe.fq.gz_pass_1.trim.pe.fq.gz.sig\n",
      "loading 0415_GACATAGT-GGATATCT_L001_001.pe.fq.gz.sig\n",
      "loading 0415_GACATAGT-GGATATCT_L001_001.pe.fq.gz_pass_1.trim.pe.fq.gz.sig\n",
      "loading 0417_ACTCACTG-GGATATCT_L001_001.pe.fq.gz.sig\n",
      "loading 0417_ACTCACTG-GGATATCT_L001_001.pe.fq.gz_pass_1.trim.pe.fq.gz.sig\n",
      "loading 0418_TGAGTACG-GGATATCT_L001_001.pe.fq.gz.sig\n",
      "loading 0418_TGAGTACG-GGATATCT_L001_001.pe.fq.gz_pass_1.trim.pe.fq.gz.sig\n",
      "loading 0419_CTGCGTAG-GGATATCT_L001_001.pe.fq.gz.sig\n",
      "loading 0419_CTGCGTAG-GGATATCT_L001_001.pe.fq.gz_pass_1.trim.pe.fq.gz.sig\n",
      "loading 0421_CGAGCGAC-GGATATCT_L001_001.pe.fq.gz.sig\n",
      "loading 0421_CGAGCGAC-GGATATCT_L001_001.pe.fq.gz_pass_1.trim.pe.fq.gz.sig\n",
      "loading 0422_ACTACGAC-GGATATCT_L001_001.pe.fq.gz.sig\n",
      "loading 0422_ACTACGAC-GGATATCT_L001_001.pe.fq.gz_pass_1.trim.pe.fq.gz.sig\n",
      "loading 9305_ACTACGAC-GACACCGT_L001_001.pe.fq.gz.sig\n",
      "loading 9305_ACTACGAC-GACACCGT_L001_001.pe.fq.gz_pass_1.trim.pe.fq.gz.sig\n",
      "loading 9309_CGAGAGTT-CTACTATA_L001_001.pe.fq.gz.sig\n",
      "loading 9309_CGAGAGTT-CTACTATA_L001_001.pe.fq.gz_pass_1.trim.pe.fq.gz.sig\n",
      "loading 9310_GACATAGT-CTACTATA_L001_001.pe.fq.gz.sig\n",
      "loading 9310_GACATAGT-CTACTATA_L001_001.pe.fq.gz_pass_1.trim.pe.fq.gz.sig\n",
      "loading 9328_ACGCTACT-CTACTATA_L001_001.pe.fq.gz.sig\n",
      "loading 9328_ACGCTACT-CTACTATA_L001_001.pe.fq.gz_pass_1.trim.pe.fq.gz.sig\n",
      "loading 9329_ACTCACTG-CTACTATA_L001_001.pe.fq.gz.sig\n",
      "loading 9329_ACTCACTG-CTACTATA_L001_001.pe.fq.gz_pass_1.trim.pe.fq.gz.sig\n",
      "loading 9340_GTCTGCTA-CTACTATA_L001_001.pe.fq.gz.sig\n",
      "loading 9340_GTCTGCTA-CTACTATA_L001_001.pe.fq.gz_pass_1.trim.pe.fq.gz.sig\n",
      "loading 9342_TATAGCGA-CTACTATA_L001_001.pe.fq.gz.sig\n",
      "loading 9342_TATAGCGA-CTACTATA_L001_001.pe.fq.gz_pass_1.trim.pe.fq.gz.sig\n",
      "loading 9345_ACGCTACT-CGTTACTA_L001_001.pe.fq.gz.sig\n",
      "loading 9345_ACGCTACT-CGTTACTA_L001_001.pe.fq.gz_pass_1.trim.pe.fq.gz.sig\n",
      "loading 9346_ACTCACTG-CGTTACTA_L001_001.pe.fq.gz.sig\n",
      "loading 9346_ACTCACTG-CGTTACTA_L001_001.pe.fq.gz_pass_1.trim.pe.fq.gz.sig\n",
      "loading 9352_TGAGTACG-CGTTACTA_L001_001.pe.fq.gz.sig\n",
      "loading 9352_TGAGTACG-CGTTACTA_L001_001.pe.fq.gz_pass_1.trim.pe.fq.gz.sig\n",
      "Traceback (most recent call last):\n",
      "  File \"/Users/philliptbrooks/dev/sourmash/sourmash\", line 5, in <module>\n",
      "    main()\n",
      "  File \"/Users/philliptbrooks/dev/sourmash/sourmash_lib/__main__.py\", line 56, in main\n",
      "    cmd(sys.argv[2:])\n",
      "  File \"/Users/philliptbrooks/dev/sourmash/sourmash_lib/commands.py\", line 357, in compare\n",
      "    D[i][j] = E.similarity(E2, args.ignore_abundance)\n",
      "  File \"/Users/philliptbrooks/dev/sourmash/sourmash_lib/signature.py\", line 106, in similarity\n",
      "    return self.estimator.similarity(other.estimator, ignore_abundance)\n",
      "  File \"/Users/philliptbrooks/dev/sourmash/sourmash_lib/__init__.py\", line 166, in similarity\n",
      "    return self.jaccard(other)\n",
      "  File \"/Users/philliptbrooks/dev/sourmash/sourmash_lib/__init__.py\", line 139, in jaccard\n",
      "    return self.mh.compare(other.mh)\n",
      "  File \"sourmash_lib/_minhash.pyx\", line 105, in sourmash_lib._minhash.MinHash.compare (sourmash_lib/_minhash.cpp:2799)\n",
      "  File \"sourmash_lib/_minhash.pyx\", line 100, in sourmash_lib._minhash.MinHash.count_common (sourmash_lib/_minhash.cpp:2698)\n",
      "ValueError: mismatch in max_hash; comparison fail\n"
     ]
    }
   ],
   "source": [
    "%%bash\n",
    "for i in 31\n",
    "do\n",
    "~/dev/sourmash/sourmash compare -o gut_k${i} *.sig -k${i}\n",
    "done"
   ]
  },
  {
   "cell_type": "code",
   "execution_count": null,
   "metadata": {
    "collapsed": true
   },
   "outputs": [],
   "source": [
    "D, labels = fig.load_matrix_and_labels('gut_k31')\n",
    "D = (D + D.T) / 0.1\n",
    "numpy.savetxt(\"{}.csv\".format('gut_k31'), D, delimiter=\",\")"
   ]
  },
  {
   "cell_type": "code",
   "execution_count": 168,
   "metadata": {
    "collapsed": false
   },
   "outputs": [
    {
     "data": {
      "text/plain": [
       "<seaborn.matrix.ClusterGrid at 0x116d11a20>"
      ]
     },
     "execution_count": 168,
     "metadata": {},
     "output_type": "execute_result"
    },
    {
     "data": {
      "image/png": "[encoded data removed]",
      "text/plain": [
       "<matplotlib.figure.Figure at 0x1384d0668>"
      ]
     },
     "metadata": {},
     "output_type": "display_data"
    }
   ],
   "source": [
    "import pandas as pd\n",
    "import seaborn as sns\n",
    "sns.set(font = \"monospace\")\n",
    "\n",
    "# Load the brain networks example dataset\n",
    "# Load the brain networks example dataset\n",
    "df = pd.read_csv('gut_k31.csv', header = None, names = [\"0389\", \"0393\", \"0397\", \"0404\", \"0415\",\n",
    "\"0417\", \"0418\", \"0419\", \"0421\", \"0422\", \"9305\", \"9309\", \"9310\", \"9328\", \"9329\",\"9340\", \"9342\", \n",
    "                                                      \"9345\", \"9346\", \"9352\"])\n",
    "\n",
    "\n",
    "# Select a subset of the networks\n",
    "\n",
    "season_colors = [\"#95a5a6\", \"#95a5a6\", \"#95a5a6\", \"#95a5a6\", \"#95a5a6\", \"#95a5a6\",\n",
    "                \"#95a5a6\", \"#95a5a6\", \"#95a5a6\", \"#95a5a6\", \"#2b8cbe\", \"#2b8cbe\",\n",
    "                \"#2b8cbe\", \"#2b8cbe\", \"#2b8cbe\", \"#2b8cbe\", \"#2b8cbe\",\"#2b8cbe\",\n",
    "                \"#2b8cbe\", \"#2b8cbe\"]\n",
    "beautiful_colors = [\"#95a5a6\", \"#95a5a6\", \"#95a5a6\", \"#95a5a6\", \"#95a5a6\", \"#95a5a6\",\n",
    "                \"#95a5a6\", \"#95a5a6\", \"#95a5a6\", \"#95a5a6\", \"#2b8cbe\", \"#2b8cbe\",\n",
    "                \"#2b8cbe\", \"#2b8cbe\", \"#2b8cbe\", \"#2b8cbe\", \"#2b8cbe\",\"#2b8cbe\",\n",
    "                \"#2b8cbe\", \"#2b8cbe\"]\n",
    "\n",
    "# Create a custom colormap for the heatmap values\n",
    "cmap = sns.cubehelix_palette(as_cmap=True, rot=-.3, light=1)\n",
    "\n",
    "\n",
    "\n",
    "# Draw the full plot\n",
    "sns.set_context(\"paper\")\n",
    "sns.clustermap(df.corr(), row_colors = season_colors , col_colors = beautiful_colors, linewidths=.5, figsize=(12, 12), standard_scale=1, cmap=cmap)"
   ]
  },
  {
   "cell_type": "code",
   "execution_count": null,
   "metadata": {
    "collapsed": true
   },
   "outputs": [],
   "source": []
  }
 ],
 "metadata": {
  "anaconda-cloud": {},
  "kernelspec": {
   "display_name": "Python [Root]",
   "language": "python",
   "name": "Python [Root]"
  },
  "language_info": {
   "codemirror_mode": {
    "name": "ipython",
    "version": 3
   },
   "file_extension": ".py",
   "mimetype": "text/x-python",
   "name": "python",
   "nbconvert_exporter": "python",
   "pygments_lexer": "ipython3",
   "version": "3.5.2"
  }
 },
 "nbformat": 4,
 "nbformat_minor": 0
}
